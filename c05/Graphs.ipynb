{
  "nbformat": 4,
  "nbformat_minor": 0,
  "metadata": {
    "colab": {
      "provenance": []
    },
    "kernelspec": {
      "name": "python3",
      "display_name": "Python 3"
    },
    "language_info": {
      "name": "python"
    }
  },
  "cells": [
    {
      "cell_type": "markdown",
      "source": [
        "# Chapter 5\n",
        "## Graph Algorithms"
      ],
      "metadata": {
        "id": "ItpONjeTpsVy"
      }
    },
    {
      "cell_type": "markdown",
      "source": [
        "Graph mechanics and types"
      ],
      "metadata": {
        "id": "7lXM4ccW4yDd"
      }
    },
    {
      "cell_type": "code",
      "execution_count": 1,
      "metadata": {
        "id": "liWMuHkt4in8"
      },
      "outputs": [],
      "source": [
        "import networkx as nx\n",
        "graph = nx.Graph()"
      ]
    },
    {
      "cell_type": "code",
      "source": [
        "graph.add_node(\"Mike\")"
      ],
      "metadata": {
        "id": "G_V_sqKh43h8"
      },
      "execution_count": 2,
      "outputs": []
    },
    {
      "cell_type": "code",
      "source": [
        "graph.add_nodes_from([\"Amine\", \"Wassim\", \"Nick\"])"
      ],
      "metadata": {
        "id": "_NRhsxgs45E5"
      },
      "execution_count": 3,
      "outputs": []
    },
    {
      "cell_type": "code",
      "source": [
        "graph.add_edge(\"Mike\", \"Amine\")"
      ],
      "metadata": {
        "id": "tadJXQpS46gU"
      },
      "execution_count": 4,
      "outputs": []
    },
    {
      "cell_type": "code",
      "source": [
        "print(graph.nodes())\n",
        "print(graph.edges())"
      ],
      "metadata": {
        "colab": {
          "base_uri": "https://localhost:8080/"
        },
        "id": "mjzLQ2hk476d",
        "outputId": "0f002709-f97b-4be2-e3ad-751125c29527"
      },
      "execution_count": 5,
      "outputs": [
        {
          "output_type": "stream",
          "name": "stdout",
          "text": [
            "['Mike', 'Amine', 'Wassim', 'Nick']\n",
            "[('Mike', 'Amine')]\n"
          ]
        }
      ]
    },
    {
      "cell_type": "code",
      "source": [
        "graph.add_edge(\"Amine\", \"Imran\")"
      ],
      "metadata": {
        "id": "59TM7vLP4-5U"
      },
      "execution_count": 6,
      "outputs": []
    },
    {
      "cell_type": "code",
      "source": [
        "print(graph.edges())"
      ],
      "metadata": {
        "colab": {
          "base_uri": "https://localhost:8080/"
        },
        "id": "pq9cFPIc5A9B",
        "outputId": "9da67798-a040-4a00-aacc-6693fa7d5b64"
      },
      "execution_count": 7,
      "outputs": [
        {
          "output_type": "stream",
          "name": "stdout",
          "text": [
            "[('Mike', 'Amine'), ('Amine', 'Imran')]\n"
          ]
        }
      ]
    },
    {
      "cell_type": "markdown",
      "source": [
        "## Calculating centrality metrics"
      ],
      "metadata": {
        "id": "qKd-kBuD5J-U"
      }
    },
    {
      "cell_type": "code",
      "source": [
        "import networkx as nx\n",
        "import matplotlib.pyplot as plt"
      ],
      "metadata": {
        "id": "N6VEBruh5Kbz"
      },
      "execution_count": 8,
      "outputs": []
    },
    {
      "cell_type": "code",
      "source": [
        "vertices = range(1, 10)\n",
        "edges = [(7, 2), (2, 3), (7, 4), (4, 5), (7, 3), (7, 5), (1, 6), (1, 7), (2, 8), (2, 9)]"
      ],
      "metadata": {
        "id": "w7xdqGln5MCF"
      },
      "execution_count": 9,
      "outputs": []
    },
    {
      "cell_type": "markdown",
      "source": [
        "Crafting the Graph"
      ],
      "metadata": {
        "id": "yp9A-JYx5TnN"
      }
    },
    {
      "cell_type": "code",
      "source": [
        "graph = nx.Graph()\n",
        "graph.add_nodes_from(vertices)\n",
        "graph.add_edges_from(edges)"
      ],
      "metadata": {
        "id": "BEaTtYKr5V2-"
      },
      "execution_count": 10,
      "outputs": []
    },
    {
      "cell_type": "markdown",
      "source": [
        "Painting a picture"
      ],
      "metadata": {
        "id": "M53CEKj75Yul"
      }
    },
    {
      "cell_type": "code",
      "source": [
        "nx.draw(graph, with_labels=True, node_color='y', node_size=800)\n",
        "plt.show()"
      ],
      "metadata": {
        "colab": {
          "base_uri": "https://localhost:8080/",
          "height": 516
        },
        "id": "TGREjKi95aVE",
        "outputId": "ce36d656-7f3c-411c-e5ca-9151c85e0096"
      },
      "execution_count": 11,
      "outputs": [
        {
          "output_type": "display_data",
          "data": {
            "text/plain": [
              "<Figure size 640x480 with 1 Axes>"
            ],
            "image/png": "[encoded data removed]"
          },
          "metadata": {}
        }
      ]
    },
    {
      "cell_type": "code",
      "source": [
        "print(\"Degree Centrality:\", nx.degree_centrality(graph))"
      ],
      "metadata": {
        "colab": {
          "base_uri": "https://localhost:8080/"
        },
        "id": "1qzMJ-vC5dr8",
        "outputId": "f3a53c54-8335-4862-8cfb-863a581355d0"
      },
      "execution_count": 12,
      "outputs": [
        {
          "output_type": "stream",
          "name": "stdout",
          "text": [
            "Degree Centrality: {1: 0.25, 2: 0.5, 3: 0.25, 4: 0.25, 5: 0.25, 6: 0.125, 7: 0.625, 8: 0.125, 9: 0.125}\n"
          ]
        }
      ]
    },
    {
      "cell_type": "code",
      "source": [
        "print(\"Betweenness Centrality:\", nx.betweenness_centrality(graph))"
      ],
      "metadata": {
        "colab": {
          "base_uri": "https://localhost:8080/"
        },
        "id": "TfE3ESmQ5fsc",
        "outputId": "a4355dbc-1bd2-48fa-f11b-ceeba56e47d8"
      },
      "execution_count": 13,
      "outputs": [
        {
          "output_type": "stream",
          "name": "stdout",
          "text": [
            "Betweenness Centrality: {1: 0.25, 2: 0.46428571428571425, 3: 0.0, 4: 0.0, 5: 0.0, 6: 0.0, 7: 0.7142857142857142, 8: 0.0, 9: 0.0}\n"
          ]
        }
      ]
    },
    {
      "cell_type": "code",
      "source": [
        "print(\"Closeness Centrality:\", nx.closeness_centrality(graph))"
      ],
      "metadata": {
        "colab": {
          "base_uri": "https://localhost:8080/"
        },
        "id": "YJk2VRt-5ig8",
        "outputId": "965d725f-cd9c-47ab-d6e3-6d0847a26dd2"
      },
      "execution_count": 14,
      "outputs": [
        {
          "output_type": "stream",
          "name": "stdout",
          "text": [
            "Closeness Centrality: {1: 0.5, 2: 0.6153846153846154, 3: 0.5333333333333333, 4: 0.47058823529411764, 5: 0.47058823529411764, 6: 0.34782608695652173, 7: 0.7272727272727273, 8: 0.4, 9: 0.4}\n"
          ]
        }
      ]
    },
    {
      "cell_type": "code",
      "source": [
        "eigenvector_centrality = nx.eigenvector_centrality(graph)\n",
        "sorted_centrality = sorted((vertex, '{:0.2f}'.format(centrality_val))\n",
        "                           for vertex, centrality_val in eigenvector_centrality.items())\n",
        "print(\"Eigenvector Centrality:\", sorted_centrality)"
      ],
      "metadata": {
        "colab": {
          "base_uri": "https://localhost:8080/"
        },
        "id": "rr3R840n5luM",
        "outputId": "81113777-9fbe-4156-f8d2-fa088f55799e"
      },
      "execution_count": 15,
      "outputs": [
        {
          "output_type": "stream",
          "name": "stdout",
          "text": [
            "Eigenvector Centrality: [(1, '0.24'), (2, '0.45'), (3, '0.36'), (4, '0.32'), (5, '0.32'), (6, '0.08'), (7, '0.59'), (8, '0.16'), (9, '0.16')]\n"
          ]
        }
      ]
    },
    {
      "cell_type": "markdown",
      "source": [
        "BFS"
      ],
      "metadata": {
        "id": "UdasauRM5qlE"
      }
    },
    {
      "cell_type": "code",
      "source": [
        "graph={ 'Amin'   : {'Wasim', 'Nick', 'Mike'},\n",
        "         'Wasim' : {'Imran', 'Amin'},\n",
        "         'Imran' : {'Wasim','Faras'},\n",
        "         'Faras' : {'Imran'},\n",
        "         'Mike'  : {'Amin'},\n",
        "         'Nick' :  {'Amin'}}"
      ],
      "metadata": {
        "id": "rqd2l1Us5rek"
      },
      "execution_count": 21,
      "outputs": []
    },
    {
      "cell_type": "markdown",
      "source": [
        "## BFS Algorithm Implementation:\n",
        "### Initialization and Main Loop\n",
        "**Initialization:** Our traversal through the graph relies on two key data structures:\n",
        "\n",
        ">•\t**visited:** A set that will hold all vertices we've explored. It starts empty.\n",
        "\n",
        ">•\t**queue:** A list used to hold vertices pending exploration. Initially, it will contain just our starting vertex.\n",
        "\n",
        "**Main Loop**: The primary logic of BFS revolves around exploring nodes layer by layer:\n",
        "> 1.\tRemove the first node from the queue and consider it as the current node for the iteration: node = queue.pop(0)\n",
        "2.\tIf the node hasn't been visited, mark it as visited and fetch its neighbors:\n"
      ],
      "metadata": {
        "id": "n_Xcpb23q_Ya"
      }
    },
    {
      "cell_type": "code",
      "source": [
        "def bfs(graph, start):\n",
        "    visited = set()\n",
        "    queue = [start]\n",
        "\n",
        "    while queue:\n",
        "        node = queue.pop(0)\n",
        "        if node not in visited:\n",
        "            visited.add(node)\n",
        "            neighbours = graph[node]\n",
        "\n",
        "            # Only add neighbors to the queue that have not been visited yet\n",
        "            unvisited_neighbours = [neighbour for neighbour in neighbours if neighbour not in visited]\n",
        "            queue.extend(unvisited_neighbours)\n",
        "\n",
        "    return visited\n",
        "\n",
        "# Test\n",
        "\n",
        "\n",
        "start_node = 'Amin'\n",
        "print(bfs(graph, start_node))\n"
      ],
      "metadata": {
        "colab": {
          "base_uri": "https://localhost:8080/"
        },
        "id": "gsEn0uYs5vMW",
        "outputId": "f85e748c-6615-4066-abd7-c551aede5b41"
      },
      "execution_count": 23,
      "outputs": [
        {
          "output_type": "stream",
          "name": "stdout",
          "text": [
            "{'Nick', 'Faras', 'Mike', 'Amin', 'Imran', 'Wasim'}\n"
          ]
        }
      ]
    },
    {
      "cell_type": "markdown",
      "source": [
        "DFS"
      ],
      "metadata": {
        "id": "BQxVCXB_53d7"
      }
    },
    {
      "cell_type": "code",
      "source": [
        "def dfs(graph, start, visited=None):\n",
        "    if visited is None:\n",
        "        visited = set()\n",
        "    visited.add(start)\n",
        "    print(start)\n",
        "    for next in graph[start] - visited:\n",
        "        dfs(graph, next, visited)\n",
        "    return visited\n",
        "\n",
        "graph={ 'Amin' : {'Wasim', 'Nick', 'Mike'},\n",
        "         'Wasim' : {'Imran', 'Amin'},\n",
        "         'Imran' : {'Wasim','Faras'},\n",
        "         'Faras' : {'Imran'},\n",
        "         'Mike'  :{'Amin'},\n",
        "         'Nick'  :{'Amin'}}\n"
      ],
      "metadata": {
        "id": "MJ-c0qLf54rE"
      },
      "execution_count": 24,
      "outputs": []
    },
    {
      "cell_type": "markdown",
      "source": [
        "### Case study: fraud detection using SNA"
      ],
      "metadata": {
        "id": "PVOIqeA36CeS"
      }
    },
    {
      "cell_type": "code",
      "source": [
        "import networkx as nx\n",
        "import matplotlib.pyplot as plt\n",
        "\n",
        "vertices = range(1,10)\n",
        "edges= [(7,2), (2,3), (7,4), (4,5), (7,3), (7,5), (1,6),(1,7),(2,8),(2,9)]\n",
        "\n",
        "graph = nx.Graph()\n",
        "\n",
        "graph.add_nodes_from(vertices)\n",
        "graph.add_edges_from(edges)\n",
        "positions = nx.spring_layout(graph)\n",
        "\n",
        "# Drawing the nodes with green color\n",
        "nx.draw_networkx_nodes(graph, positions,\n",
        "                       nodelist=[1, 4, 3, 8, 9],\n",
        "                       node_color='g',\n",
        "                       node_size=1300)\n",
        "\n",
        "# No need to repeat the above call\n",
        "\n",
        "labels = {1: '1 NF', 2: '2 F', 3: '3 NF', 4: '4 NF', 5: '5 F', 6: '6 F', 7: '7 F', 8: '8 NF', 9: '9 NF'}\n",
        "nx.draw_networkx_labels(graph, positions, labels, font_size=16)\n",
        "\n",
        "# Drawing the edges\n",
        "nx.draw_networkx_edges(graph, positions, edges, width=3, alpha=0.5, edge_color='b')\n",
        "\n",
        "plt.show()  # Display the graph\n",
        "\n"
      ],
      "metadata": {
        "colab": {
          "base_uri": "https://localhost:8080/",
          "height": 406
        },
        "id": "Prmx0n766Brk",
        "outputId": "6eefeeea-fcd1-43ee-ad46-6b6f1c4950ed"
      },
      "execution_count": 26,
      "outputs": [
        {
          "output_type": "display_data",
          "data": {
            "text/plain": [
              "<Figure size 640x480 with 1 Axes>"
            ],
            "image/png": "[encoded data removed]"
          },
          "metadata": {}
        }
      ]
    },
    {
      "cell_type": "code",
      "source": [],
      "metadata": {
        "id": "fgdLasXS6Rjk"
      },
      "execution_count": null,
      "outputs": []
    }
  ]
}